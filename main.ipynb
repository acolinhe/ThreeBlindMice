{
 "cells": [
  {
   "cell_type": "code",
   "execution_count": 1,
   "metadata": {},
   "outputs": [],
   "source": [
    "import pandas as pd\n",
    "from sklearn.model_selection import train_test_split\n",
    "from sklearn.ensemble import RandomForestClassifier\n",
    "from sklearn.metrics import accuracy_score, classification_report\n",
    "import warnings\n",
    "warnings.filterwarnings('ignore')"
   ]
  },
  {
   "cell_type": "code",
   "execution_count": 9,
   "metadata": {},
   "outputs": [],
   "source": [
    "file_ids = [\n",
    "    \"11IstrgPDn521ZZWSM9FXPra_WKCSTUnz\",\n",
    "    \"1dJG4-Xl3aIRCBAva2HO1deWKKYvGWOJe\",\n",
    "    \"14KDvjd6ixNHRnf_B9Df0A-DDroTTqI57\",\n",
    "    \"1FLQ10Am7UgD7uUt3L2aesJzdP3L6FLfN\",\n",
    "    \"1l6nnYWdkIceJUw5pH9umerfeVijmhccP\",\n",
    "    \"1zdSauBF8wHt670Bdv6aRXc9KTKwIvDhq\",\n",
    "    \"1ftMzt4iy0IFr5e-OnUd5VHL6WR8IL5um\",\n",
    "    \"1K3RCKeJIglgiMRSK70N2F_I2Vy_rHYgS\",\n",
    "    \"1_OXAPIj-6GLdvlnQjQF_op_uKne2WgUD\",\n",
    "    \"1Lh5GYcHvXwungyWoHiXYZH0Cbkr18h9A\",\n",
    "    \"1193I6J7pQw4gp3uoGQh4vP-hZw70Caik\",\n",
    "    \"19_3txs87HRSLrTFFNjk542Bm40KAmn4q\",\n",
    "    \"1yM0f_Xba95egCzlwZj9lbtbuJ6t0f1ws\",\n",
    "    \"1fbgnT7bnSzlAWPhSVuL4xPSPgg7UkY8O\",\n",
    "    \"1Tj0-Rw3MZJjRwNHg261qwKdLJdc4Db-p\",\n",
    "    \"1InRZNBT5cANspViwz8RQpagbmLgpV9oJ\",\n",
    "    \"1ZM-pxfEGYRik0brV_iDtDQTZdEWhLqPy\",\n",
    "    \"1A11omS6Y3cNbsEC9XJeNf5QVJoXNpoiS\",\n",
    "    \"1ZNVVYcAOMnHIpDpdzyimNmcTOIWp-3HC\",\n",
    "    \"1dV6cSXB5VF4VerDQccxIQ8GelrkCOqie\"\n",
    "]"
   ]
  },
  {
   "cell_type": "code",
   "execution_count": 11,
   "metadata": {},
   "outputs": [
    {
     "name": "stdout",
     "output_type": "stream",
     "text": [
      "   activity  time_s   lw_x   lw_y   lw_z   lh_x   lh_y   lh_z   la_x   la_y  \\\n",
      "0        99    0.01  0.012  1.031 -0.008  0.039  1.027  0.004 -0.039  1.016   \n",
      "1        99    0.02 -0.219 -0.023  1.445 -0.289 -0.051  1.063 -0.395 -0.191   \n",
      "2        99    0.03  0.297 -0.160  1.738 -0.086 -0.609  1.547 -0.180 -0.746   \n",
      "3        99    0.04  0.645 -0.113  0.980  0.129 -0.730  0.883  0.043 -0.859   \n",
      "4        99    0.05  0.781 -0.113  0.645  0.215 -0.801  0.578  0.137 -0.930   \n",
      "\n",
      "    la_z   ra_x   ra_y   ra_z  \n",
      "0  0.086  0.328  1.543  0.672  \n",
      "1  0.953 -0.285  0.480  1.410  \n",
      "2  1.230 -0.262  0.734  1.426  \n",
      "3  0.523 -0.137  0.941  0.617  \n",
      "4  0.207 -0.078  0.992  0.277  \n"
     ]
    }
   ],
   "source": [
    "#Reading in data\n",
    "combined_df = pd.DataFrame()\n",
    "\n",
    "for file_id in file_ids:\n",
    "    url = f\"https://drive.google.com/uc?id={file_id}\"\n",
    "    temp_df = pd.read_csv(url)\n",
    "    combined_df = pd.concat([combined_df, temp_df], ignore_index=True)\n",
    "\n",
    "combined_df.head()\n"
   ]
  },
  {
   "cell_type": "code",
   "execution_count": 14,
   "metadata": {},
   "outputs": [
    {
     "data": {
      "text/html": [
       "<div>\n",
       "<style scoped>\n",
       "    .dataframe tbody tr th:only-of-type {\n",
       "        vertical-align: middle;\n",
       "    }\n",
       "\n",
       "    .dataframe tbody tr th {\n",
       "        vertical-align: top;\n",
       "    }\n",
       "\n",
       "    .dataframe thead th {\n",
       "        text-align: right;\n",
       "    }\n",
       "</style>\n",
       "<table border=\"1\" class=\"dataframe\">\n",
       "  <thead>\n",
       "    <tr style=\"text-align: right;\">\n",
       "      <th></th>\n",
       "      <th>activity</th>\n",
       "      <th>time_s</th>\n",
       "      <th>lw_x</th>\n",
       "      <th>lw_y</th>\n",
       "      <th>lw_z</th>\n",
       "    </tr>\n",
       "  </thead>\n",
       "  <tbody>\n",
       "    <tr>\n",
       "      <th>34600</th>\n",
       "      <td>1</td>\n",
       "      <td>346.01</td>\n",
       "      <td>0.574</td>\n",
       "      <td>-0.441</td>\n",
       "      <td>0.914</td>\n",
       "    </tr>\n",
       "    <tr>\n",
       "      <th>34601</th>\n",
       "      <td>1</td>\n",
       "      <td>346.02</td>\n",
       "      <td>0.512</td>\n",
       "      <td>-0.484</td>\n",
       "      <td>0.945</td>\n",
       "    </tr>\n",
       "    <tr>\n",
       "      <th>34602</th>\n",
       "      <td>1</td>\n",
       "      <td>346.03</td>\n",
       "      <td>0.422</td>\n",
       "      <td>-0.516</td>\n",
       "      <td>0.953</td>\n",
       "    </tr>\n",
       "    <tr>\n",
       "      <th>34603</th>\n",
       "      <td>1</td>\n",
       "      <td>346.04</td>\n",
       "      <td>0.355</td>\n",
       "      <td>-0.531</td>\n",
       "      <td>0.938</td>\n",
       "    </tr>\n",
       "    <tr>\n",
       "      <th>34604</th>\n",
       "      <td>1</td>\n",
       "      <td>346.05</td>\n",
       "      <td>0.367</td>\n",
       "      <td>-0.535</td>\n",
       "      <td>0.922</td>\n",
       "    </tr>\n",
       "  </tbody>\n",
       "</table>\n",
       "</div>"
      ],
      "text/plain": [
       "       activity  time_s   lw_x   lw_y   lw_z\n",
       "34600         1  346.01  0.574 -0.441  0.914\n",
       "34601         1  346.02  0.512 -0.484  0.945\n",
       "34602         1  346.03  0.422 -0.516  0.953\n",
       "34603         1  346.04  0.355 -0.531  0.938\n",
       "34604         1  346.05  0.367 -0.535  0.922"
      ]
     },
     "execution_count": 14,
     "metadata": {},
     "output_type": "execute_result"
    }
   ],
   "source": [
    "#Preprocessing data\n",
    "#dropped any rows that don't have activity = 1, 2, or 3\n",
    "#TODO: drop rows with missing values\n",
    "\n",
    "#Features: lw_x, lw_y, lw_z\n",
    "#TODO -- Target: person id (need to create column for this)\n",
    "\n",
    "#TODO -- Do we need to group by instance?\n",
    "\n",
    "df_filtered = combined_df[combined_df['activity'].isin([1, 2, 3])]\n",
    "df_filtered = df_filtered[['activity', 'time_s', 'lw_x', 'lw_y', 'lw_z']]\n",
    "\n",
    "df_filtered.head()\n",
    "\n",
    "# # Features and target variable\n",
    "# X = df_filtered[['activity', 'time_s', 'lw_x', 'lw_y', 'lw_z']]\n",
    "# y = df_filtered['id']\n",
    "\n",
    "# # Encode columns (if needed)\n",
    "# X.loc[:, 'Sex'] = X['Sex'].map({'female': 0, 'male': 1})"
   ]
  },
  {
   "cell_type": "code",
   "execution_count": null,
   "metadata": {},
   "outputs": [],
   "source": [
    "#Copied from geeksforgeeks random forest implementation:\n",
    "# Split data into training and testing sets\n",
    "X_train, X_test, y_train, y_test = train_test_split(X, y, test_size=0.2, random_state=42)\n",
    "\n",
    "# Initialize RandomForestClassifier\n",
    "rf_classifier = RandomForestClassifier(n_estimators=100, random_state=42)\n",
    "\n",
    "# Fit the classifier to the training data\n",
    "rf_classifier.fit(X_train, y_train)\n"
   ]
  },
  {
   "cell_type": "code",
   "execution_count": null,
   "metadata": {},
   "outputs": [],
   "source": [
    "#Copied from geeksforgeeks random forest implementation:\n",
    "# Make predictions\n",
    "y_pred = rf_classifier.predict(X_test)\n",
    "\n",
    "# Calculate accuracy and classification report\n",
    "accuracy = accuracy_score(y_test, y_pred)\n",
    "classification_rep = classification_report(y_test, y_pred)\n",
    "\n",
    "# Print the results\n",
    "print(f\"Accuracy: {accuracy:.2f}\")\n",
    "print(\"\\nClassification Report:\\n\", classification_rep)\n",
    "\n",
    "# Sample prediction\n",
    "sample = X_test.iloc[0:1]  # Keep as DataFrame to match model input format\n",
    "prediction = rf_classifier.predict(sample)\n",
    "\n",
    "# Retrieve and display the sample\n",
    "sample_dict = sample.iloc[0].to_dict()\n",
    "print(f\"\\nSample Passenger: {sample_dict}\")\n",
    "print(f\"Predicted Survival: {'Survived' if prediction[0] == 1 else 'Did Not Survive'}\")\n"
   ]
  }
 ],
 "metadata": {
  "kernelspec": {
   "display_name": "Python 3",
   "language": "python",
   "name": "python3"
  },
  "language_info": {
   "codemirror_mode": {
    "name": "ipython",
    "version": 3
   },
   "file_extension": ".py",
   "mimetype": "text/x-python",
   "name": "python",
   "nbconvert_exporter": "python",
   "pygments_lexer": "ipython3",
   "version": "3.12.0"
  }
 },
 "nbformat": 4,
 "nbformat_minor": 2
}
